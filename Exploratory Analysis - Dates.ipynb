{
 "cells": [
  {
   "cell_type": "markdown",
   "metadata": {},
   "source": [
    "# Exploratory Analysis - Date Variables\n",
    "\n",
    "This notebook contains only analysis fo the date variables in the data set."
   ]
  },
  {
   "cell_type": "markdown",
   "metadata": {},
   "source": [
    "### Imports"
   ]
  },
  {
   "cell_type": "code",
   "execution_count": 4,
   "metadata": {},
   "outputs": [],
   "source": [
    "import pandas as pd\n",
    "import numpy as np\n",
    "from scipy import stats\n",
    "import matplotlib.pyplot as plt\n",
    "import seaborn as sns\n",
    "%matplotlib inline\n",
    "sns.set_style(\"whitegrid\")"
   ]
  },
  {
   "cell_type": "markdown",
   "metadata": {},
   "source": [
    "### Data"
   ]
  },
  {
   "cell_type": "code",
   "execution_count": 7,
   "metadata": {},
   "outputs": [],
   "source": [
    "train = pd.read_csv(\"data/train.csv\")\n",
    "test = pd.read_csv(\"data/test.csv\")"
   ]
  },
  {
   "cell_type": "markdown",
   "metadata": {},
   "source": [
    "#### Copying alterations from main Exploratory file"
   ]
  },
  {
   "cell_type": "code",
   "execution_count": 9,
   "metadata": {},
   "outputs": [],
   "source": [
    "#Dropping those properties with above ground living area\n",
    "#greater than 4000\n",
    "index_drop = train[train[\"GrLivArea\"] > 4000].index\n",
    "train.drop(index = index_drop, inplace = True)\n",
    "train.reset_index(drop = True, inplace = True)"
   ]
  },
  {
   "cell_type": "code",
   "execution_count": 10,
   "metadata": {},
   "outputs": [],
   "source": [
    "#Merging 4 and 3 car garage levels\n",
    "train.loc[train[\"GarageCars\"] == 4, \"GarageCars\"] = 3"
   ]
  },
  {
   "cell_type": "code",
   "execution_count": 11,
   "metadata": {},
   "outputs": [],
   "source": [
    "#Merging 0 and 1 full bath levels\n",
    "train.loc[train[\"FullBath\"] == 0, \"FullBath\"] = 1"
   ]
  },
  {
   "cell_type": "code",
   "execution_count": 12,
   "metadata": {},
   "outputs": [],
   "source": [
    "#Merging all levels of total above ground rooms less than three into one\n",
    "train.loc[train[\"TotRmsAbvGrd\"] < 3, \"TotRmsAbvGrd\"] = 3\n",
    "#merging all levels of total above ground rooms greater than 10 into one\n",
    "train.loc[train[\"TotRmsAbvGrd\"] >= 10, \"TotRmsAbvGrd\"] = 10"
   ]
  },
  {
   "cell_type": "markdown",
   "metadata": {},
   "source": [
    "## Date Variables"
   ]
  },
  {
   "cell_type": "markdown",
   "metadata": {},
   "source": [
    "#### Month Sold"
   ]
  },
  {
   "cell_type": "code",
   "execution_count": 15,
   "metadata": {},
   "outputs": [
    {
     "data": {
      "text/plain": [
       "Text(0, 0.5, 'Sales Price')"
      ]
     },
     "execution_count": 15,
     "metadata": {},
     "output_type": "execute_result"
    },
    {
     "data": {
      "image/png": "[encoded data removed]",
      "text/plain": [
       "<Figure size 432x288 with 1 Axes>"
      ]
     },
     "metadata": {
      "needs_background": "light"
     },
     "output_type": "display_data"
    }
   ],
   "source": [
    "#Interaction between Month sold and sales price\n",
    "sns.boxplot(train[\"MoSold\"], train[\"SalePrice\"])\n",
    "plt.title(\"Interaction between the Month of the Sale and the Sales Price\")\n",
    "plt.xlabel(\"Month Sold\")\n",
    "plt.ylabel(\"Sales Price\")"
   ]
  },
  {
   "cell_type": "markdown",
   "metadata": {},
   "source": [
    "There is very very little variance in the relationship between sale price and the month in which the property was sold. It seems that the month of th eyear doesn't really effect the sale price."
   ]
  },
  {
   "cell_type": "code",
   "execution_count": 21,
   "metadata": {},
   "outputs": [
    {
     "data": {
      "text/html": [
       "<div>\n",
       "<style scoped>\n",
       "    .dataframe tbody tr th:only-of-type {\n",
       "        vertical-align: middle;\n",
       "    }\n",
       "\n",
       "    .dataframe tbody tr th {\n",
       "        vertical-align: top;\n",
       "    }\n",
       "\n",
       "    .dataframe thead th {\n",
       "        text-align: right;\n",
       "    }\n",
       "</style>\n",
       "<table border=\"1\" class=\"dataframe\">\n",
       "  <thead>\n",
       "    <tr style=\"text-align: right;\">\n",
       "      <th></th>\n",
       "      <th>count</th>\n",
       "      <th>mean</th>\n",
       "      <th>std</th>\n",
       "      <th>min</th>\n",
       "      <th>25%</th>\n",
       "      <th>50%</th>\n",
       "      <th>75%</th>\n",
       "      <th>max</th>\n",
       "    </tr>\n",
       "    <tr>\n",
       "      <th>MoSold</th>\n",
       "      <th></th>\n",
       "      <th></th>\n",
       "      <th></th>\n",
       "      <th></th>\n",
       "      <th></th>\n",
       "      <th></th>\n",
       "      <th></th>\n",
       "      <th></th>\n",
       "    </tr>\n",
       "  </thead>\n",
       "  <tbody>\n",
       "    <tr>\n",
       "      <th>1</th>\n",
       "      <td>56.0</td>\n",
       "      <td>173461.839286</td>\n",
       "      <td>96011.179979</td>\n",
       "      <td>39300.0</td>\n",
       "      <td>115750.0</td>\n",
       "      <td>147000.0</td>\n",
       "      <td>214500.0</td>\n",
       "      <td>582933.0</td>\n",
       "    </tr>\n",
       "    <tr>\n",
       "      <th>2</th>\n",
       "      <td>52.0</td>\n",
       "      <td>177882.000000</td>\n",
       "      <td>52960.863135</td>\n",
       "      <td>93000.0</td>\n",
       "      <td>129175.0</td>\n",
       "      <td>173250.0</td>\n",
       "      <td>211225.0</td>\n",
       "      <td>320000.0</td>\n",
       "    </tr>\n",
       "    <tr>\n",
       "      <th>3</th>\n",
       "      <td>106.0</td>\n",
       "      <td>183253.924528</td>\n",
       "      <td>86488.445599</td>\n",
       "      <td>52500.0</td>\n",
       "      <td>133725.0</td>\n",
       "      <td>165250.0</td>\n",
       "      <td>200593.0</td>\n",
       "      <td>611657.0</td>\n",
       "    </tr>\n",
       "    <tr>\n",
       "      <th>4</th>\n",
       "      <td>141.0</td>\n",
       "      <td>171503.262411</td>\n",
       "      <td>77147.323106</td>\n",
       "      <td>68400.0</td>\n",
       "      <td>124000.0</td>\n",
       "      <td>147000.0</td>\n",
       "      <td>202900.0</td>\n",
       "      <td>555000.0</td>\n",
       "    </tr>\n",
       "    <tr>\n",
       "      <th>5</th>\n",
       "      <td>204.0</td>\n",
       "      <td>172307.269608</td>\n",
       "      <td>68614.545198</td>\n",
       "      <td>37900.0</td>\n",
       "      <td>127750.0</td>\n",
       "      <td>154000.0</td>\n",
       "      <td>204812.5</td>\n",
       "      <td>430000.0</td>\n",
       "    </tr>\n",
       "    <tr>\n",
       "      <th>6</th>\n",
       "      <td>253.0</td>\n",
       "      <td>177395.735178</td>\n",
       "      <td>69453.085881</td>\n",
       "      <td>55993.0</td>\n",
       "      <td>136000.0</td>\n",
       "      <td>163000.0</td>\n",
       "      <td>204000.0</td>\n",
       "      <td>538000.0</td>\n",
       "    </tr>\n",
       "    <tr>\n",
       "      <th>7</th>\n",
       "      <td>233.0</td>\n",
       "      <td>183933.472103</td>\n",
       "      <td>84305.077431</td>\n",
       "      <td>40000.0</td>\n",
       "      <td>132500.0</td>\n",
       "      <td>164990.0</td>\n",
       "      <td>212900.0</td>\n",
       "      <td>625000.0</td>\n",
       "    </tr>\n",
       "    <tr>\n",
       "      <th>8</th>\n",
       "      <td>122.0</td>\n",
       "      <td>184651.827869</td>\n",
       "      <td>73215.986647</td>\n",
       "      <td>64500.0</td>\n",
       "      <td>126250.0</td>\n",
       "      <td>174450.0</td>\n",
       "      <td>237639.5</td>\n",
       "      <td>426000.0</td>\n",
       "    </tr>\n",
       "    <tr>\n",
       "      <th>9</th>\n",
       "      <td>63.0</td>\n",
       "      <td>195683.206349</td>\n",
       "      <td>83149.017391</td>\n",
       "      <td>67000.0</td>\n",
       "      <td>135000.0</td>\n",
       "      <td>185900.0</td>\n",
       "      <td>231585.0</td>\n",
       "      <td>465000.0</td>\n",
       "    </tr>\n",
       "    <tr>\n",
       "      <th>10</th>\n",
       "      <td>88.0</td>\n",
       "      <td>179505.045455</td>\n",
       "      <td>76167.976759</td>\n",
       "      <td>35311.0</td>\n",
       "      <td>134250.0</td>\n",
       "      <td>158500.0</td>\n",
       "      <td>203125.0</td>\n",
       "      <td>438780.0</td>\n",
       "    </tr>\n",
       "    <tr>\n",
       "      <th>11</th>\n",
       "      <td>79.0</td>\n",
       "      <td>192210.911392</td>\n",
       "      <td>83517.711202</td>\n",
       "      <td>34900.0</td>\n",
       "      <td>130000.0</td>\n",
       "      <td>173000.0</td>\n",
       "      <td>238500.0</td>\n",
       "      <td>446261.0</td>\n",
       "    </tr>\n",
       "    <tr>\n",
       "      <th>12</th>\n",
       "      <td>59.0</td>\n",
       "      <td>186518.966102</td>\n",
       "      <td>69495.155055</td>\n",
       "      <td>62383.0</td>\n",
       "      <td>135480.0</td>\n",
       "      <td>178000.0</td>\n",
       "      <td>239500.0</td>\n",
       "      <td>340000.0</td>\n",
       "    </tr>\n",
       "  </tbody>\n",
       "</table>\n",
       "</div>"
      ],
      "text/plain": [
       "        count           mean           std      min       25%       50%  \\\n",
       "MoSold                                                                    \n",
       "1        56.0  173461.839286  96011.179979  39300.0  115750.0  147000.0   \n",
       "2        52.0  177882.000000  52960.863135  93000.0  129175.0  173250.0   \n",
       "3       106.0  183253.924528  86488.445599  52500.0  133725.0  165250.0   \n",
       "4       141.0  171503.262411  77147.323106  68400.0  124000.0  147000.0   \n",
       "5       204.0  172307.269608  68614.545198  37900.0  127750.0  154000.0   \n",
       "6       253.0  177395.735178  69453.085881  55993.0  136000.0  163000.0   \n",
       "7       233.0  183933.472103  84305.077431  40000.0  132500.0  164990.0   \n",
       "8       122.0  184651.827869  73215.986647  64500.0  126250.0  174450.0   \n",
       "9        63.0  195683.206349  83149.017391  67000.0  135000.0  185900.0   \n",
       "10       88.0  179505.045455  76167.976759  35311.0  134250.0  158500.0   \n",
       "11       79.0  192210.911392  83517.711202  34900.0  130000.0  173000.0   \n",
       "12       59.0  186518.966102  69495.155055  62383.0  135480.0  178000.0   \n",
       "\n",
       "             75%       max  \n",
       "MoSold                      \n",
       "1       214500.0  582933.0  \n",
       "2       211225.0  320000.0  \n",
       "3       200593.0  611657.0  \n",
       "4       202900.0  555000.0  \n",
       "5       204812.5  430000.0  \n",
       "6       204000.0  538000.0  \n",
       "7       212900.0  625000.0  \n",
       "8       237639.5  426000.0  \n",
       "9       231585.0  465000.0  \n",
       "10      203125.0  438780.0  \n",
       "11      238500.0  446261.0  \n",
       "12      239500.0  340000.0  "
      ]
     },
     "execution_count": 21,
     "metadata": {},
     "output_type": "execute_result"
    }
   ],
   "source": [
    "train[\"SalePrice\"].groupby(train[\"MoSold\"]).describe()"
   ]
  },
  {
   "cell_type": "markdown",
   "metadata": {},
   "source": [
    "The majority of properties were sold between April and August, indicating that most properties are sold in the summer. This increase may be linked to families oving and selling/buying propetties, as most families with children move in the summer to avoid moving in the middle of the school year."
   ]
  },
  {
   "cell_type": "markdown",
   "metadata": {},
   "source": [
    "#### Year Sold"
   ]
  },
  {
   "cell_type": "code",
   "execution_count": 22,
   "metadata": {},
   "outputs": [
    {
     "data": {
      "text/plain": [
       "Text(0, 0.5, 'Sales Price')"
      ]
     },
     "execution_count": 22,
     "metadata": {},
     "output_type": "execute_result"
    },
    {
     "data": {
      "image/png": "[encoded data removed]",
      "text/plain": [
       "<Figure size 432x288 with 1 Axes>"
      ]
     },
     "metadata": {
      "needs_background": "light"
     },
     "output_type": "display_data"
    }
   ],
   "source": [
    "#Interaction between year sold and sales price\n",
    "sns.boxplot(train[\"YrSold\"], train[\"SalePrice\"])\n",
    "plt.title(\"Interaction between the Year of the Sale and the Sales Price\")\n",
    "plt.xlabel(\"Year Sold\")\n",
    "plt.ylabel(\"Sales Price\")"
   ]
  },
  {
   "cell_type": "markdown",
   "metadata": {},
   "source": [
    "There is practically no variance in the relationship between the sale price and the year in which the property was sold. I mentioned in the main file that it appeared that there may have been some sort of scaling done to account for market shifts/inflation in the data set, and this seems to be another indicator of this. One would expect at least some movement, but absolutely none is seen here.  \n",
    "Whether by design or not, it does mean that the year will have no use in any predictive model I create."
   ]
  },
  {
   "cell_type": "code",
   "execution_count": 20,
   "metadata": {},
   "outputs": [
    {
     "data": {
      "text/html": [
       "<div>\n",
       "<style scoped>\n",
       "    .dataframe tbody tr th:only-of-type {\n",
       "        vertical-align: middle;\n",
       "    }\n",
       "\n",
       "    .dataframe tbody tr th {\n",
       "        vertical-align: top;\n",
       "    }\n",
       "\n",
       "    .dataframe thead th {\n",
       "        text-align: right;\n",
       "    }\n",
       "</style>\n",
       "<table border=\"1\" class=\"dataframe\">\n",
       "  <thead>\n",
       "    <tr style=\"text-align: right;\">\n",
       "      <th></th>\n",
       "      <th>count</th>\n",
       "      <th>mean</th>\n",
       "      <th>std</th>\n",
       "      <th>min</th>\n",
       "      <th>25%</th>\n",
       "      <th>50%</th>\n",
       "      <th>75%</th>\n",
       "      <th>max</th>\n",
       "    </tr>\n",
       "    <tr>\n",
       "      <th>YrSold</th>\n",
       "      <th></th>\n",
       "      <th></th>\n",
       "      <th></th>\n",
       "      <th></th>\n",
       "      <th></th>\n",
       "      <th></th>\n",
       "      <th></th>\n",
       "      <th></th>\n",
       "    </tr>\n",
       "  </thead>\n",
       "  <tbody>\n",
       "    <tr>\n",
       "      <th>2006</th>\n",
       "      <td>314.0</td>\n",
       "      <td>182549.458599</td>\n",
       "      <td>79426.838855</td>\n",
       "      <td>35311.0</td>\n",
       "      <td>131375.0</td>\n",
       "      <td>163995.0</td>\n",
       "      <td>218782.5</td>\n",
       "      <td>625000.0</td>\n",
       "    </tr>\n",
       "    <tr>\n",
       "      <th>2007</th>\n",
       "      <td>326.0</td>\n",
       "      <td>182607.444785</td>\n",
       "      <td>73857.085731</td>\n",
       "      <td>39300.0</td>\n",
       "      <td>129600.0</td>\n",
       "      <td>165000.0</td>\n",
       "      <td>217750.0</td>\n",
       "      <td>466500.0</td>\n",
       "    </tr>\n",
       "    <tr>\n",
       "      <th>2008</th>\n",
       "      <td>303.0</td>\n",
       "      <td>177418.135314</td>\n",
       "      <td>69843.803786</td>\n",
       "      <td>40000.0</td>\n",
       "      <td>131000.0</td>\n",
       "      <td>165000.0</td>\n",
       "      <td>207000.0</td>\n",
       "      <td>446261.0</td>\n",
       "    </tr>\n",
       "    <tr>\n",
       "      <th>2009</th>\n",
       "      <td>338.0</td>\n",
       "      <td>179432.103550</td>\n",
       "      <td>80879.237311</td>\n",
       "      <td>34900.0</td>\n",
       "      <td>125250.0</td>\n",
       "      <td>162000.0</td>\n",
       "      <td>212750.0</td>\n",
       "      <td>582933.0</td>\n",
       "    </tr>\n",
       "    <tr>\n",
       "      <th>2010</th>\n",
       "      <td>175.0</td>\n",
       "      <td>177393.674286</td>\n",
       "      <td>80451.280085</td>\n",
       "      <td>55000.0</td>\n",
       "      <td>128100.0</td>\n",
       "      <td>155000.0</td>\n",
       "      <td>213250.0</td>\n",
       "      <td>611657.0</td>\n",
       "    </tr>\n",
       "  </tbody>\n",
       "</table>\n",
       "</div>"
      ],
      "text/plain": [
       "        count           mean           std      min       25%       50%  \\\n",
       "YrSold                                                                    \n",
       "2006    314.0  182549.458599  79426.838855  35311.0  131375.0  163995.0   \n",
       "2007    326.0  182607.444785  73857.085731  39300.0  129600.0  165000.0   \n",
       "2008    303.0  177418.135314  69843.803786  40000.0  131000.0  165000.0   \n",
       "2009    338.0  179432.103550  80879.237311  34900.0  125250.0  162000.0   \n",
       "2010    175.0  177393.674286  80451.280085  55000.0  128100.0  155000.0   \n",
       "\n",
       "             75%       max  \n",
       "YrSold                      \n",
       "2006    218782.5  625000.0  \n",
       "2007    217750.0  466500.0  \n",
       "2008    207000.0  446261.0  \n",
       "2009    212750.0  582933.0  \n",
       "2010    213250.0  611657.0  "
      ]
     },
     "execution_count": 20,
     "metadata": {},
     "output_type": "execute_result"
    }
   ],
   "source": [
    "train[\"SalePrice\"].groupby(train[\"YrSold\"]).describe()"
   ]
  },
  {
   "cell_type": "markdown",
   "metadata": {},
   "source": [
    "When reviewing the number of sales per year, there are half as many observed in 2010 as there were in any other year. As year has no effect on the Sales price, this small anomoly isn't really that interesting, outside of having noticed it."
   ]
  },
  {
   "cell_type": "markdown",
   "metadata": {},
   "source": [
    "In conclusion, no date variable has an interesting effect on the sale price of a property. As such, they may bedropped from the data set when modeling."
   ]
  }
 ],
 "metadata": {
  "kernelspec": {
   "display_name": "Python 3",
   "language": "python",
   "name": "python3"
  },
  "language_info": {
   "codemirror_mode": {
    "name": "ipython",
    "version": 3
   },
   "file_extension": ".py",
   "mimetype": "text/x-python",
   "name": "python",
   "nbconvert_exporter": "python",
   "pygments_lexer": "ipython3",
   "version": "3.7.3"
  }
 },
 "nbformat": 4,
 "nbformat_minor": 2
}
