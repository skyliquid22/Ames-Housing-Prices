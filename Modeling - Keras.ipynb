{
 "cells": [
  {
   "cell_type": "markdown",
   "metadata": {},
   "source": [
    "# Modeling"
   ]
  },
  {
   "cell_type": "markdown",
   "metadata": {},
   "source": [
    "### Imports"
   ]
  },
  {
   "cell_type": "code",
   "execution_count": 2,
   "metadata": {},
   "outputs": [],
   "source": [
    "#Data Handling\n",
    "import pandas as pd\n",
    "import numpy as np\n",
    "\n",
    "#Visualization\n",
    "import matplotlib.pyplot as plt\n",
    "import seaborn as sns\n",
    "%matplotlib inline\n",
    "sns.set_style(\"whitegrid\")\n",
    "\n",
    "#Stats\n",
    "from scipy import stats\n",
    "from scipy.stats import norm, skew\n",
    "\n",
    "#Warnings\n",
    "import warnings\n",
    "\n",
    "#Modeling\n",
    "import sklearn as skl\n",
    "from sklearn.base import BaseEstimator, TransformerMixin, RegressorMixin, clone\n",
    "from sklearn.linear_model import LinearRegression, Ridge, Lasso, ElasticNet\n",
    "from sklearn.kernel_ridge import KernelRidge\n",
    "from sklearn.ensemble import RandomForestRegressor, GradientBoostingRegressor\n",
    "from sklearn.model_selection import train_test_split, cross_val_score, KFold, GridSearchCV\n",
    "from sklearn.preprocessing import StandardScaler, RobustScaler, Normalizer\n",
    "from sklearn import metrics\n",
    "from sklearn.metrics import mean_squared_error, make_scorer\n",
    "from sklearn.pipeline import make_pipeline\n",
    "#There are some additional modeling imports below\n",
    "#Specifically for the Neural Net\n",
    "\n",
    "#Modeling with XGBoost\n",
    "import xgboost as xgb\n",
    "from xgboost.sklearn import XGBRegressor"
   ]
  },
  {
   "cell_type": "markdown",
   "metadata": {},
   "source": [
    "### Data"
   ]
  },
  {
   "cell_type": "code",
   "execution_count": 3,
   "metadata": {},
   "outputs": [],
   "source": [
    "train = pd.read_csv(\"data/train.csv\")\n",
    "test = pd.read_csv(\"data/test.csv\")"
   ]
  },
  {
   "cell_type": "markdown",
   "metadata": {},
   "source": [
    "First I'm going to drop all properties with an above ground living area greater than 4000, as per both my analysis and the documentation of the data set."
   ]
  },
  {
   "cell_type": "code",
   "execution_count": 4,
   "metadata": {},
   "outputs": [],
   "source": [
    "index_drop = train[train[\"GrLivArea\"] > 4000].index\n",
    "train.drop(index = index_drop, inplace = True)\n",
    "train.reset_index(drop = True, inplace = True)"
   ]
  },
  {
   "cell_type": "markdown",
   "metadata": {},
   "source": [
    "Next I'm going to concatenate the training and test sets so that all feature engineering/dropping is applied to both sets. I'll also review and fill both sets NA values identically this way, guaranteeing that the two data sets have the same levels for all categorical features."
   ]
  },
  {
   "cell_type": "code",
   "execution_count": 5,
   "metadata": {},
   "outputs": [],
   "source": [
    "#Concatenating Test and Train for variable dropping/encoding/transforming etc.\n",
    "train_SalePrice = train.loc[:,\"SalePrice\"]\n",
    "train.drop(columns=\"SalePrice\", inplace = True)\n",
    "\n",
    "train[\"IsTrain\"] = np.ones(shape = len(train))\n",
    "test[\"IsTrain\"] = np.zeros(shape = len(test))\n",
    "\n",
    "test_id = test.loc[:,\"Id\"]\n",
    "\n",
    "all_data = pd.concat([train, test]).reset_index(drop = True)\n",
    "all_data.drop(columns = [\"Id\", \"PoolArea\", \"PoolQC\", \"Fence\", \"MiscFeature\", \"MiscVal\", \"GarageYrBlt\", \"Alley\", \"Utilities\"], inplace = True)"
   ]
  },
  {
   "cell_type": "markdown",
   "metadata": {},
   "source": [
    "Now, based on the analysis done in the Main exploratory file, I'll be collapsing a few levels of interesting variables, as well as dropping  those variables which I found to have practically no relationship with the Sale Price (ie. both sale date variables) or which were found to be largely missing."
   ]
  },
  {
   "cell_type": "markdown",
   "metadata": {},
   "source": [
    "### Preprocessing"
   ]
  },
  {
   "cell_type": "markdown",
   "metadata": {},
   "source": [
    "#### Filling Missing Values  \n",
    "The majority of the missing values in the data set are due to the absence of a feature on the given property. This is specified in the data description file, and as such I've converted the NAN values to either 0's (in the numerical case) or to a categorical level of \"None\".  \n",
    "Specified below are also a few variables which were filled with the mode of the respective feature. This was done as these features only experienced a very small number of missing values."
   ]
  },
  {
   "cell_type": "code",
   "execution_count": 6,
   "metadata": {},
   "outputs": [],
   "source": [
    "#treating missings using data description file info\n",
    "#Filling with mean/median does not make sense for these entries\n",
    "#LotFrontage\n",
    "all_data.loc[:, \"LotFrontage\"] = all_data.loc[:, \"LotFrontage\"].fillna(0)\n",
    "\n",
    "#Masonry\n",
    "all_data.loc[:, \"MasVnrType\"] = all_data.loc[:, \"MasVnrType\"].fillna(\"None\")\n",
    "all_data.loc[:, \"MasVnrArea\"] = all_data.loc[:, \"MasVnrArea\"].fillna(0)\n",
    "\n",
    "#Basement:\n",
    "all_data.loc[:, \"BsmtQual\"] = all_data.loc[:, \"BsmtQual\"].fillna(\"None\")\n",
    "all_data.loc[:, \"BsmtCond\"] = all_data.loc[:, \"BsmtCond\"].fillna(\"None\")\n",
    "all_data.loc[:, \"BsmtExposure\"] = all_data.loc[:, \"BsmtExposure\"].fillna(\"None\")\n",
    "all_data.loc[:, \"BsmtFinType1\"] = all_data.loc[:, \"BsmtFinType1\"].fillna(\"None\")\n",
    "all_data.loc[:, \"BsmtFinType2\"] = all_data.loc[:, \"BsmtFinType2\"].fillna(\"None\")\n",
    "all_data.loc[:, \"BsmtFinSF1\"] = all_data.loc[:, \"BsmtFinSF1\"].fillna(0)\n",
    "all_data.loc[:, \"BsmtFinSF2\"] = all_data.loc[:, \"BsmtFinSF2\"].fillna(0)\n",
    "all_data.loc[:, \"BsmtFullBath\"] = all_data.loc[:, \"BsmtFullBath\"].fillna(0)\n",
    "all_data.loc[:, \"BsmtHalfBath\"] = all_data.loc[:, \"BsmtHalfBath\"].fillna(0)\n",
    "all_data.loc[:, \"BsmtUnfSF\"] = all_data.loc[:, \"BsmtUnfSF\"].fillna(0)\n",
    "all_data.loc[:, \"TotalBsmtSF\"] = all_data.loc[:, \"TotalBsmtSF\"].fillna(0)\n",
    "\n",
    "\n",
    "#Fireplace:\n",
    "all_data.loc[:, \"FireplaceQu\"] = all_data.loc[:, \"FireplaceQu\"].fillna(\"None\")\n",
    "\n",
    "#Garage:\n",
    "all_data.loc[:, \"GarageType\"] = all_data.loc[:, \"GarageType\"].fillna(\"None\")\n",
    "all_data.loc[:, \"GarageFinish\"] = all_data.loc[:, \"GarageFinish\"].fillna(\"None\")\n",
    "all_data.loc[:, \"GarageQual\"] = all_data.loc[:, \"GarageQual\"].fillna(\"None\")\n",
    "all_data.loc[:, \"GarageCond\"] = all_data.loc[:, \"GarageCond\"].fillna(\"None\")\n",
    "all_data.loc[:, \"GarageCars\"] = all_data.loc[:, \"GarageCars\"].fillna(0)\n",
    "all_data.loc[:, \"GarageArea\"] = all_data.loc[:, \"GarageArea\"].fillna(0)\n",
    "\n",
    "\n",
    "#Filling with Mode\n",
    "#MSZoning\n",
    "all_data.loc[:, \"MSZoning\"] = all_data.loc[:, \"MSZoning\"].fillna(\"RL\")\n",
    "\n",
    "#Exterior1st\n",
    "all_data.loc[:, \"Exterior1st\"] = all_data.loc[:, \"Exterior1st\"].fillna(\"VinylSd\")\n",
    "\n",
    "#Exterior2nd\n",
    "all_data.loc[:, \"Exterior2nd\"] = all_data.loc[:, \"Exterior2nd\"].fillna(\"VinylSd\")\n",
    "\n",
    "#Functional\n",
    "all_data.loc[:, \"Functional\"] = all_data.loc[:, \"Functional\"].fillna(\"Typ\")\n",
    "\n",
    "#Electrical\n",
    "all_data.loc[:, \"Electrical\"] = all_data.loc[:, \"Electrical\"].fillna(\"SBrkr\")\n",
    "\n",
    "#KitchenQual\n",
    "all_data.loc[:, \"KitchenQual\"] = all_data.loc[:, \"KitchenQual\"].fillna(\"TA\")\n",
    "\n",
    "#SaleType\n",
    "all_data.loc[:, \"SaleType\"] = all_data.loc[:, \"SaleType\"].fillna(\"WD\")"
   ]
  },
  {
   "cell_type": "markdown",
   "metadata": {},
   "source": [
    "Below I visualize the missing data in the data set one final to, just to double check that there are no eronious missing values that I have not caught."
   ]
  },
  {
   "cell_type": "code",
   "execution_count": 7,
   "metadata": {},
   "outputs": [
    {
     "data": {
      "text/plain": [
       "Text(0.5, 1, 'Visualization of Missing Values in the All Data')"
      ]
     },
     "execution_count": 7,
     "metadata": {},
     "output_type": "execute_result"
    },
    {
     "data": {
      "image/png": "[encoded data removed]",
      "text/plain": [
       "<Figure size 1080x576 with 1 Axes>"
      ]
     },
     "metadata": {
      "needs_background": "light"
     },
     "output_type": "display_data"
    }
   ],
   "source": [
    "#visualizing the missing values in the training set\n",
    "plt.figure(figsize=(15,8))\n",
    "sns.heatmap(pd.isnull(all_data), cbar = False, cmap = \"magma_r\")\n",
    "plt.title(\"Visualization of Missing Values in the All Data\")"
   ]
  },
  {
   "cell_type": "code",
   "execution_count": 8,
   "metadata": {},
   "outputs": [
    {
     "data": {
      "text/html": [
       "<div>\n",
       "<style scoped>\n",
       "    .dataframe tbody tr th:only-of-type {\n",
       "        vertical-align: middle;\n",
       "    }\n",
       "\n",
       "    .dataframe tbody tr th {\n",
       "        vertical-align: top;\n",
       "    }\n",
       "\n",
       "    .dataframe thead th {\n",
       "        text-align: right;\n",
       "    }\n",
       "</style>\n",
       "<table border=\"1\" class=\"dataframe\">\n",
       "  <thead>\n",
       "    <tr style=\"text-align: right;\">\n",
       "      <th></th>\n",
       "      <th>MSSubClass</th>\n",
       "      <th>MSZoning</th>\n",
       "      <th>LotFrontage</th>\n",
       "      <th>LotArea</th>\n",
       "      <th>Street</th>\n",
       "      <th>LotShape</th>\n",
       "      <th>LandContour</th>\n",
       "      <th>LotConfig</th>\n",
       "      <th>LandSlope</th>\n",
       "      <th>Neighborhood</th>\n",
       "      <th>Condition1</th>\n",
       "      <th>Condition2</th>\n",
       "      <th>BldgType</th>\n",
       "      <th>HouseStyle</th>\n",
       "      <th>OverallQual</th>\n",
       "      <th>OverallCond</th>\n",
       "      <th>YearBuilt</th>\n",
       "      <th>YearRemodAdd</th>\n",
       "      <th>RoofStyle</th>\n",
       "      <th>RoofMatl</th>\n",
       "      <th>Exterior1st</th>\n",
       "      <th>Exterior2nd</th>\n",
       "      <th>MasVnrType</th>\n",
       "      <th>MasVnrArea</th>\n",
       "      <th>ExterQual</th>\n",
       "      <th>ExterCond</th>\n",
       "      <th>Foundation</th>\n",
       "      <th>BsmtQual</th>\n",
       "      <th>BsmtCond</th>\n",
       "      <th>BsmtExposure</th>\n",
       "      <th>BsmtFinType1</th>\n",
       "      <th>BsmtFinSF1</th>\n",
       "      <th>BsmtFinType2</th>\n",
       "      <th>BsmtFinSF2</th>\n",
       "      <th>BsmtUnfSF</th>\n",
       "      <th>TotalBsmtSF</th>\n",
       "      <th>Heating</th>\n",
       "      <th>HeatingQC</th>\n",
       "      <th>CentralAir</th>\n",
       "      <th>Electrical</th>\n",
       "      <th>1stFlrSF</th>\n",
       "      <th>2ndFlrSF</th>\n",
       "      <th>LowQualFinSF</th>\n",
       "      <th>GrLivArea</th>\n",
       "      <th>BsmtFullBath</th>\n",
       "      <th>BsmtHalfBath</th>\n",
       "      <th>FullBath</th>\n",
       "      <th>HalfBath</th>\n",
       "      <th>BedroomAbvGr</th>\n",
       "      <th>KitchenAbvGr</th>\n",
       "      <th>KitchenQual</th>\n",
       "      <th>TotRmsAbvGrd</th>\n",
       "      <th>Functional</th>\n",
       "      <th>Fireplaces</th>\n",
       "      <th>FireplaceQu</th>\n",
       "      <th>GarageType</th>\n",
       "      <th>GarageFinish</th>\n",
       "      <th>GarageCars</th>\n",
       "      <th>GarageArea</th>\n",
       "      <th>GarageQual</th>\n",
       "      <th>GarageCond</th>\n",
       "      <th>PavedDrive</th>\n",
       "      <th>WoodDeckSF</th>\n",
       "      <th>OpenPorchSF</th>\n",
       "      <th>EnclosedPorch</th>\n",
       "      <th>3SsnPorch</th>\n",
       "      <th>ScreenPorch</th>\n",
       "      <th>MoSold</th>\n",
       "      <th>YrSold</th>\n",
       "      <th>SaleType</th>\n",
       "      <th>SaleCondition</th>\n",
       "      <th>IsTrain</th>\n",
       "    </tr>\n",
       "  </thead>\n",
       "  <tbody>\n",
       "  </tbody>\n",
       "</table>\n",
       "</div>"
      ],
      "text/plain": [
       "Empty DataFrame\n",
       "Columns: [MSSubClass, MSZoning, LotFrontage, LotArea, Street, LotShape, LandContour, LotConfig, LandSlope, Neighborhood, Condition1, Condition2, BldgType, HouseStyle, OverallQual, OverallCond, YearBuilt, YearRemodAdd, RoofStyle, RoofMatl, Exterior1st, Exterior2nd, MasVnrType, MasVnrArea, ExterQual, ExterCond, Foundation, BsmtQual, BsmtCond, BsmtExposure, BsmtFinType1, BsmtFinSF1, BsmtFinType2, BsmtFinSF2, BsmtUnfSF, TotalBsmtSF, Heating, HeatingQC, CentralAir, Electrical, 1stFlrSF, 2ndFlrSF, LowQualFinSF, GrLivArea, BsmtFullBath, BsmtHalfBath, FullBath, HalfBath, BedroomAbvGr, KitchenAbvGr, KitchenQual, TotRmsAbvGrd, Functional, Fireplaces, FireplaceQu, GarageType, GarageFinish, GarageCars, GarageArea, GarageQual, GarageCond, PavedDrive, WoodDeckSF, OpenPorchSF, EnclosedPorch, 3SsnPorch, ScreenPorch, MoSold, YrSold, SaleType, SaleCondition, IsTrain]\n",
       "Index: []"
      ]
     },
     "execution_count": 8,
     "metadata": {},
     "output_type": "execute_result"
    }
   ],
   "source": [
    "#Call the dataframe of observations with missing values\n",
    "#If the dataframe is blank than I've successfully filled them all.\n",
    "pd.set_option(\"display.max.columns\", 999)\n",
    "all_data[all_data.isnull().any(axis = 1)]"
   ]
  },
  {
   "cell_type": "markdown",
   "metadata": {},
   "source": [
    "#### Encoding Numeric Variables which are Actually Categorical"
   ]
  },
  {
   "cell_type": "code",
   "execution_count": 9,
   "metadata": {},
   "outputs": [],
   "source": [
    "all_data = all_data.replace(\n",
    "    {\"MSSubClass\" : \n",
    "     {20 : \"SC20\", 30 : \"SC30\", 40 : \"SC40\", 45 : \"SC45\", 50 : \"SC50\",\n",
    "     60 : \"SC60\", 70 : \"SC70\", 75 : \"SC75\", 80 : \"SC80\", 85 : \"SC85\",\n",
    "     90 : \"SC90\", 120 : \"SC120\", 150: \"SC150\", 160 : \"SC160\", 180 : \"SC180\", 190 : \"SC190\"}})\n",
    "all_data[\"MSSubClass\"] = all_data.MSSubClass.astype(\"object\")"
   ]
  },
  {
   "cell_type": "markdown",
   "metadata": {},
   "source": [
    "#### Order Encoding those Categorical Variables which should be Ordered  \n",
    "Below I've encoded all the catergorical variables which were given levels respective to their quality with corresponding numeric values. Consistantly throughout the data set, low values will indicate poorer quality, while higher values will indicate better quality. Zero values show that the feature is absent."
   ]
  },
  {
   "cell_type": "code",
   "execution_count": 10,
   "metadata": {},
   "outputs": [],
   "source": [
    "all_data = all_data.replace(\n",
    "    {\"LotShape\" : {\"IR3\" : 1, \"IR2\" : 2, \"IR1\" : 3, \"Reg\" : 4},\n",
    "    \"LandSlope\" : {\"Sev\" : 1, \"Mod\" : 2, \"Gtl\" : 3},\n",
    "    \"ExterQual\" : {\"Po\" : 1, \"Fa\" : 2, \"TA\" : 3, \"Gd\" : 4, \"Ex\" : 5},\n",
    "    \"ExterCond\" : {\"Po\" : 1, \"Fa\" : 2, \"TA\" : 3, \"Gd\" : 4, \"Ex\" : 5},\n",
    "    \"BsmtQual\" : {\"None\" : 0, \"Po\" : 1, \"Fa\" : 2, \"TA\" : 3, \"Gd\" : 4, \"Ex\" : 5},\n",
    "    \"BsmtCond\" : {\"None\" : 0, \"Po\" : 1, \"Fa\" : 2, \"TA\" : 3, \"Gd\" : 4}, #, \"Ex\" : 5}, There are no excellent condition basements in all the data\n",
    "    \"BsmtExposure\" : {\"None\" : 0, \"No\" : 1, \"Mn\" : 2, \"Av\" : 3, \"Gd\" : 4},\n",
    "    \"BsmtFinType1\" : {\"None\" : 0, \"Unf\" : 1, \"LwQ\" : 2, \"Rec\" : 3, \"BLQ\" : 4, \"ALQ\" : 5, \"GLQ\" : 6},\n",
    "    \"BsmtFinType2\" : {\"None\" : 0, \"Unf\" : 1, \"LwQ\" : 2, \"Rec\" : 3, \"BLQ\" : 4, \"ALQ\" : 5, \"GLQ\" : 6},\n",
    "    \"HeatingQC\" : {\"Po\" : 1, \"Fa\" : 2, \"TA\" : 3, \"Gd\" : 4, \"Ex\" : 5},\n",
    "    \"CentralAir\" : {\"N\" : 0, \"Y\" : 1},\n",
    "    \"Electrical\" : {\"Mix\" : 1, \"FuseP\" : 1, \"FuseF\" : 2, \"FuseA\" : 3, \"SBrkr\" : 4},\n",
    "    \"KitchenQual\" : {\"Po\" : 1, \"Fa\" : 2, \"TA\" : 3, \"Gd\" : 4, \"Ex\" : 5},\n",
    "    \"Functional\" : {\"Sal\" : 1, \"Sev\" : 2, \"Maj2\" : 3, \"Maj1\" : 4, \"Mod\" : 5, \"Min2\" : 6, \"Min1\" : 7, \"Typ\" : 8},\n",
    "    \"FireplaceQu\" : {\"None\" : 0, \"Po\" : 1, \"Fa\" : 2, \"TA\" : 3, \"Gd\" : 4, \"Ex\" : 5},\n",
    "    \"GarageFinish\" : {\"None\" : 0, \"Unf\" : 1, \"RFn\" : 2, \"Fin\" : 3},\n",
    "    \"GarageQual\" : {\"None\" : 0, \"Po\" : 1, \"Fa\" : 2, \"TA\" : 3, \"Gd\" : 4, \"Ex\" : 5},\n",
    "    \"GarageCond\" : {\"None\" : 0, \"Po\" : 1, \"Fa\" : 2, \"TA\" : 3, \"Gd\" : 4, \"Ex\" : 5},\n",
    "    \"PavedDrive\" : {\"N\" : 1, \"P\" : 2, \"Y\" : 3}})"
   ]
  },
  {
   "cell_type": "code",
   "execution_count": 11,
   "metadata": {},
   "outputs": [],
   "source": [
    "cate_feats = all_data.dtypes[all_data.dtypes == \"object\"].index\n",
    "for feat in cate_feats:\n",
    "    all_data[feat] = all_data[feat].astype(\"category\")"
   ]
  },
  {
   "cell_type": "code",
   "execution_count": 12,
   "metadata": {},
   "outputs": [],
   "source": [
    "from sklearn.preprocessing import LabelEncoder\n",
    "cate_feats = all_data.dtypes[all_data.dtypes == \"category\"].index"
   ]
  },
  {
   "cell_type": "code",
   "execution_count": 13,
   "metadata": {},
   "outputs": [],
   "source": [
    "lbl = LabelEncoder()\n",
    "for feat in cate_feats:\n",
    "    lbl.fit(list(all_data[feat].values))\n",
    "    all_data[feat] = lbl.transform(list(all_data[feat].values))"
   ]
  },
  {
   "cell_type": "markdown",
   "metadata": {},
   "source": [
    "### Feature Engineering  \n",
    "In the process of my feature engineering, I'll be preforming two seperate tasks.\n",
    "+ Combining features which I believe show similar information\n",
    "+ Correcting what skew I can in the numeric features  "
   ]
  },
  {
   "cell_type": "markdown",
   "metadata": {},
   "source": [
    "#### Combining Features\n",
    "I'll be creating 6 combined features, for each of the asspects of the properties where there are multiple quality or grading features. For example, I'll be creating an \"OverallGrade\" feature which combines the given \"Overal Condition\" grade and the \"Overall Quality\" grade. I'll be doing the same for the,\n",
    "+ Exterior Features\n",
    "+ Basement Features\n",
    "+ Garage Features\n",
    "+ All Grading Features"
   ]
  },
  {
   "cell_type": "code",
   "execution_count": 14,
   "metadata": {},
   "outputs": [],
   "source": [
    "#Creating a Total Area Feature\n",
    "all_data[\"TotSqFt\"] = all_data[\"GrLivArea\"] + all_data[\"TotalBsmtSF\"]\n",
    "#Dropping all other square foot variables\n",
    "#as they are all highly functionally linked\n",
    "all_data.drop(columns=[\"GrLivArea\", \"1stFlrSF\", \"2ndFlrSF\", \"TotalBsmtSF\"], inplace = True)\n",
    "\n",
    "#Creating Overall Grade of Property\n",
    "all_data[\"OverallGrade\"] = all_data[\"OverallCond\"] + all_data[\"OverallQual\"]\n",
    "\n",
    "#Creating Exterior Grade\n",
    "all_data[\"ExterGrade\"] = all_data[\"ExterCond\"] + all_data[\"ExterQual\"]\n",
    "\n",
    "#Creating Basement Grade\n",
    "all_data[\"BsmtGrade\"] = all_data[\"BsmtCond\"] + all_data[\"BsmtQual\"]\n",
    "\n",
    "#Creating Total Basement Score\n",
    "all_data[\"TotBsmtGrade\"] = all_data[\"BsmtCond\"] + all_data[\"BsmtQual\"] + all_data[\"BsmtExposure\"] + all_data[\"BsmtFinType1\"] + all_data[\"BsmtFinType2\"]\n",
    "\n",
    "#Creating Garage Grade\n",
    "all_data[\"GarageGrade\"] = all_data[\"GarageCond\"] + all_data[\"GarageQual\"]\n",
    "\n",
    "#Creating Total Property Score\n",
    "all_data[\"TotalScore\"] = all_data[\"OverallCond\"] + all_data[\"OverallQual\"] + all_data[\"ExterCond\"] + all_data[\"ExterQual\"] + all_data[\"BsmtCond\"] + all_data[\"BsmtQual\"] + all_data[\"BsmtExposure\"] + all_data[\"BsmtFinType1\"] + all_data[\"BsmtFinType2\"] + all_data[\"LotShape\"] + all_data[\"LandSlope\"] + all_data[\"HeatingQC\"] + all_data[\"CentralAir\"] + all_data[\"Electrical\"] + all_data[\"KitchenQual\"] + all_data[\"Functional\"] + all_data[\"FireplaceQu\"] + all_data[\"GarageFinish\"] + all_data[\"PavedDrive\"]"
   ]
  },
  {
   "cell_type": "markdown",
   "metadata": {},
   "source": [
    "#### Skewed Features\n",
    "The majority of the purely numeric features appear to be skewed normal distributions. Having reviewed the effects of both the logistic transformation, and the Box Cox transformation to correct the skew, I've opted to use the Box Cox for the predictive features. At a later point in this notebook I'll be applying a log transformation exclusively to the response, the Sale Price, as this showed a better correction of the skew in the sale price."
   ]
  },
  {
   "cell_type": "code",
   "execution_count": 16,
   "metadata": {},
   "outputs": [],
   "source": [
    "#Transforming skewed numerical predictors with box cox\n",
    "num_feats = []\n",
    "for feat in all_data:\n",
    "    if feat in cate_feats:\n",
    "        pass\n",
    "    else:\n",
    "        num_feats.append(feat)"
   ]
  },
  {
   "cell_type": "code",
   "execution_count": 17,
   "metadata": {},
   "outputs": [
    {
     "data": {
      "text/html": [
       "<div>\n",
       "<style scoped>\n",
       "    .dataframe tbody tr th:only-of-type {\n",
       "        vertical-align: middle;\n",
       "    }\n",
       "\n",
       "    .dataframe tbody tr th {\n",
       "        vertical-align: top;\n",
       "    }\n",
       "\n",
       "    .dataframe thead th {\n",
       "        text-align: right;\n",
       "    }\n",
       "</style>\n",
       "<table border=\"1\" class=\"dataframe\">\n",
       "  <thead>\n",
       "    <tr style=\"text-align: right;\">\n",
       "      <th></th>\n",
       "      <th>Skew</th>\n",
       "    </tr>\n",
       "  </thead>\n",
       "  <tbody>\n",
       "    <tr>\n",
       "      <td>LotArea</td>\n",
       "      <td>13.123758</td>\n",
       "    </tr>\n",
       "    <tr>\n",
       "      <td>LowQualFinSF</td>\n",
       "      <td>12.080315</td>\n",
       "    </tr>\n",
       "    <tr>\n",
       "      <td>3SsnPorch</td>\n",
       "      <td>11.368094</td>\n",
       "    </tr>\n",
       "    <tr>\n",
       "      <td>KitchenAbvGr</td>\n",
       "      <td>4.298845</td>\n",
       "    </tr>\n",
       "    <tr>\n",
       "      <td>BsmtFinSF2</td>\n",
       "      <td>4.142863</td>\n",
       "    </tr>\n",
       "    <tr>\n",
       "      <td>EnclosedPorch</td>\n",
       "      <td>4.000796</td>\n",
       "    </tr>\n",
       "    <tr>\n",
       "      <td>ScreenPorch</td>\n",
       "      <td>3.943508</td>\n",
       "    </tr>\n",
       "    <tr>\n",
       "      <td>BsmtHalfBath</td>\n",
       "      <td>3.942892</td>\n",
       "    </tr>\n",
       "    <tr>\n",
       "      <td>BsmtFinType2</td>\n",
       "      <td>3.149564</td>\n",
       "    </tr>\n",
       "    <tr>\n",
       "      <td>MasVnrArea</td>\n",
       "      <td>2.600697</td>\n",
       "    </tr>\n",
       "  </tbody>\n",
       "</table>\n",
       "</div>"
      ],
      "text/plain": [
       "                    Skew\n",
       "LotArea        13.123758\n",
       "LowQualFinSF   12.080315\n",
       "3SsnPorch      11.368094\n",
       "KitchenAbvGr    4.298845\n",
       "BsmtFinSF2      4.142863\n",
       "EnclosedPorch   4.000796\n",
       "ScreenPorch     3.943508\n",
       "BsmtHalfBath    3.942892\n",
       "BsmtFinType2    3.149564\n",
       "MasVnrArea      2.600697"
      ]
     },
     "execution_count": 17,
     "metadata": {},
     "output_type": "execute_result"
    }
   ],
   "source": [
    "skewed_feats = all_data[num_feats].apply(lambda x: skew(x)).sort_values(ascending = False)\n",
    "skewness = pd.DataFrame({\"Skew\" : skewed_feats})\n",
    "skewness.head(10)"
   ]
  },
  {
   "cell_type": "code",
   "execution_count": 18,
   "metadata": {},
   "outputs": [
    {
     "data": {
      "text/plain": [
       "(30,)"
      ]
     },
     "execution_count": 18,
     "metadata": {},
     "output_type": "execute_result"
    }
   ],
   "source": [
    "from scipy.special import boxcox1p\n",
    "skewness = skewness[abs(skewness[\"Skew\"]) > 0.75]\n",
    "skewed_feats = skewness.index\n",
    "skewed_feats.shape"
   ]
  },
  {
   "cell_type": "code",
   "execution_count": 19,
   "metadata": {},
   "outputs": [],
   "source": [
    "#Box Cos Transform\n",
    "lam = 0.15\n",
    "for feat in skewed_feats:\n",
    "    all_data[feat] = boxcox1p(all_data[feat], lam)"
   ]
  },
  {
   "cell_type": "code",
   "execution_count": 20,
   "metadata": {},
   "outputs": [],
   "source": [
    "#Log Transform\n",
    "#for feat in skewed_feats:\n",
    "#    all_data.loc[all_data[feat] == 0, feat] += 1\n",
    "#    all_data[feat] = np.log(all_data[feat])"
   ]
  },
  {
   "cell_type": "code",
   "execution_count": 21,
   "metadata": {},
   "outputs": [
    {
     "data": {
      "image/png": "[encoded data removed]",
      "text/plain": [
       "<Figure size 1440x1080 with 9 Axes>"
      ]
     },
     "metadata": {
      "needs_background": "light"
     },
     "output_type": "display_data"
    }
   ],
   "source": [
    "#Displaying Effect of Box Cox Transformation\n",
    "fig = plt.figure(figsize = (20, 15))\n",
    "\n",
    "for i, feat in enumerate(skewed_feats):\n",
    "    if i < 9:\n",
    "        ax = fig.add_subplot(10, 3, i+1)\n",
    "        stats.probplot(all_data[feat], plot = plt)\n",
    "        plt.title(\"Box Cox Transformation of {}\".format(feat))\n",
    "        ax.yaxis.label.set_visible(False)\n",
    "        ax.xaxis.label.set_visible(False)\n",
    "        ax.set_xticks([])"
   ]
  },
  {
   "cell_type": "code",
   "execution_count": 22,
   "metadata": {},
   "outputs": [
    {
     "data": {
      "image/png": "[encoded data removed]",
      "text/plain": [
       "<Figure size 1440x1080 with 21 Axes>"
      ]
     },
     "metadata": {
      "needs_background": "light"
     },
     "output_type": "display_data"
    }
   ],
   "source": [
    "#Displaying Effect of Box Cox Transformation\n",
    "fig = plt.figure(figsize = (20, 15))\n",
    "\n",
    "for i, feat in enumerate(skewed_feats):\n",
    "    if i >=9:\n",
    "        ax = fig.add_subplot(10, 3, i+1)\n",
    "        stats.probplot(all_data[feat], plot = plt)\n",
    "        plt.title(\"Box Cox Transformation of {}\".format(feat))\n",
    "        ax.yaxis.label.set_visible(False)\n",
    "        ax.xaxis.label.set_visible(False)\n",
    "        ax.set_xticks([])"
   ]
  },
  {
   "cell_type": "code",
   "execution_count": 23,
   "metadata": {},
   "outputs": [],
   "source": [
    "#Since all are now int this is not necessary\n",
    "#all_data = pd.get_dummies(all_data, drop_first = True)"
   ]
  },
  {
   "cell_type": "markdown",
   "metadata": {},
   "source": [
    "**Splitting Test and Train**  \n",
    "Now, using the feature I created before merging the test and training sets, which is just a bollean indicating if the observation came from the test or training set, I'll split them again, so I can train my models exclusively on the traning set."
   ]
  },
  {
   "cell_type": "code",
   "execution_count": 24,
   "metadata": {},
   "outputs": [],
   "source": [
    "train = all_data.loc[all_data[\"IsTrain\"] == 1, :]\n",
    "test = all_data.loc[all_data[\"IsTrain\"] == 0, :]"
   ]
  },
  {
   "cell_type": "markdown",
   "metadata": {},
   "source": [
    "**Log Transformation of Sales Price**  \n",
    "I'll now apply the log transformation to the SalePrice variable of the training set, which I split off before feature engineering."
   ]
  },
  {
   "cell_type": "code",
   "execution_count": 25,
   "metadata": {},
   "outputs": [],
   "source": [
    "#Log transform of SalePrice\n",
    "y_train = np.log(train_SalePrice)"
   ]
  },
  {
   "cell_type": "markdown",
   "metadata": {},
   "source": [
    "**Scaled Version of the Training Set**  \n",
    "At certain points in my modeling I'll want to use and review different types of scaling for the training set, specifically for the neural net created at the end of this analysis. In the mojority of the base modeling I'll just be creating a pipeline which include whichever scaling method I want to use."
   ]
  },
  {
   "cell_type": "code",
   "execution_count": 26,
   "metadata": {},
   "outputs": [],
   "source": [
    "#Creating scaled versions of the training and test set\n",
    "#Standard Scaling\n",
    "scaler = StandardScaler()\n",
    "scaler.fit(train)\n",
    "train_scaled = pd.DataFrame(scaler.transform(train), columns= train.columns)\n",
    "test_scaled = pd.DataFrame(scaler.transform(test), columns = test.columns)\n",
    "\n",
    "#Robust Scaling\n",
    "scaler = RobustScaler()\n",
    "scaler.fit(train)\n",
    "train_rob_scal = pd.DataFrame(scaler.transform(train), columns = train.columns)\n",
    "test_rob_scaled = pd.DataFrame(scaler.transform(test), columns = test.columns)\n",
    "\n",
    "#Normalizing\n",
    "scaler = Normalizer()\n",
    "scaler.fit(train)\n",
    "train_norm = pd.DataFrame(scaler.transform(train), columns=train.columns)\n",
    "test_norm = pd.DataFrame(scaler.transform(test), columns = test.columns)"
   ]
  },
  {
   "cell_type": "markdown",
   "metadata": {},
   "source": [
    "### Keras Modeling\n"
   ]
  },
  {
   "cell_type": "code",
   "execution_count": 32,
   "metadata": {},
   "outputs": [],
   "source": [
    "#Validation Function:\n",
    "#Adding random shuffle to cross validation folds\n",
    "\n",
    "def rand_shuf_cv(model, n_folds, train_values = train.values):\n",
    "    kfolds = KFold(n_folds, shuffle=True, random_state = 84)\n",
    "    rmse = np.sqrt(-cross_val_score(model, train_values, y_train, scoring = \"neg_mean_squared_error\", cv = kfolds))\n",
    "    return(rmse)"
   ]
  },
  {
   "cell_type": "code",
   "execution_count": 33,
   "metadata": {},
   "outputs": [],
   "source": [
    "#Dataframe to tune model\n",
    "dtrain = train.copy()\n",
    "dtrain[\"SalePrice\"] = y_train\n",
    "predictors = [x for x in dtrain.columns if x not in [\"SalePrice\"]]"
   ]
  },
  {
   "cell_type": "markdown",
   "metadata": {},
   "source": [
    "### Keras Regression\n",
    "For my neural network, I'm going to find a more parsimonius model. "
   ]
  },
  {
   "cell_type": "markdown",
   "metadata": {},
   "source": [
    "#### Feature Selection\n",
    "I'll be using NUMBER OF METHODS to check the importance of the features in the data set. I'll be selecting the top 20 most important features. The first of the selection methods will be Recursive Feature Elimination, built using lasso regression. Since this will be built with Lasso, which is highly sensitive to outliers, I'll be using the training data which was robustly scaled - `train_rob_scal`"
   ]
  },
  {
   "cell_type": "code",
   "execution_count": 27,
   "metadata": {},
   "outputs": [],
   "source": [
    "#Feature Extraction Methods\n",
    "from sklearn.feature_selection import RFE\n",
    "from sklearn.decomposition import PCA"
   ]
  },
  {
   "cell_type": "markdown",
   "metadata": {},
   "source": [
    "**RFE Feature Extraction**"
   ]
  },
  {
   "cell_type": "code",
   "execution_count": 29,
   "metadata": {},
   "outputs": [],
   "source": [
    "estimator = Lasso()\n",
    "rfe = RFE(estimator, 20)\n",
    "fit = rfe.fit(train_rob_scal, y_train)"
   ]
  },
  {
   "cell_type": "code",
   "execution_count": 34,
   "metadata": {},
   "outputs": [
    {
     "name": "stdout",
     "output_type": "stream",
     "text": [
      "Selected Features: Index(['GarageQual', 'GarageCond', 'PavedDrive', 'WoodDeckSF', 'OpenPorchSF',\n",
      "       'EnclosedPorch', '3SsnPorch', 'ScreenPorch', 'MoSold', 'YrSold',\n",
      "       'SaleType', 'SaleCondition', 'IsTrain', 'TotSqFt', 'OverallGrade',\n",
      "       'ExterGrade', 'BsmtGrade', 'TotBsmtGrade', 'GarageGrade', 'TotalScore'],\n",
      "      dtype='object') \n",
      "\n",
      "\n",
      "Feature Ranking: ['GarageCond', 'GarageQual', 'GarageArea', 'GarageCars', 'GarageFinish', 'GarageType', 'FireplaceQu', 'Fireplaces', 'Functional', 'TotRmsAbvGrd', 'KitchenQual', 'KitchenAbvGr', 'BedroomAbvGr', 'HalfBath', 'FullBath', 'BsmtHalfBath', 'BsmtFullBath', 'LowQualFinSF', 'Electrical', 'CentralAir']\n"
     ]
    }
   ],
   "source": [
    "#Creating a dictionary to convert ranking of predictors\n",
    "#from numbered to the feature names\n",
    "#x_labels will provide the list of ordered important features\n",
    "#Additionally, the first 20 in the x_labels list can be used \n",
    "#to slice the training set based on this algorithms selection\n",
    "preds_dict = dict(zip(range(len(predictors)), predictors))\n",
    "x_labels = []\n",
    "for el in list(fit.ranking_):\n",
    "    x_labels.append(preds_dict[el])\n",
    "\n",
    "\n",
    "print(\"Selected Features: {} \\n\\n\".format(train.columns[fit.support_]))\n",
    "print(\"Feature Ranking: {}\".format(x_labels[:20]))"
   ]
  },
  {
   "cell_type": "markdown",
   "metadata": {},
   "source": [
    "**Predictors Selected based on the Ensemble Methods**  \n",
    "The predictors in the parsimonius predictors `(preds_pars)` below are selected based on the feature importance information found in the above ensemble methods, including the random forest, gradient boosting, and xgboost models."
   ]
  },
  {
   "cell_type": "code",
   "execution_count": 36,
   "metadata": {},
   "outputs": [
    {
     "data": {
      "text/plain": [
       "17"
      ]
     },
     "execution_count": 36,
     "metadata": {},
     "output_type": "execute_result"
    }
   ],
   "source": [
    "preds_pars = [\"TotSqFt\", \"OverallQual\", \"TotalScore\", \"GarageCars\",\n",
    "              \"GarageFinish\", \"KitchenQual\", \"GarageCond\", \"YearRemodAdd\",\n",
    "              \"GarageType\", \"MSZoning\", \"CentralAir\", \"FireplaceQu\",\n",
    "              \"TotRmsAbvGrd\", \"LotArea\", \"GarageArea\", \"ExterQual\", \"FullBath\"]\n",
    "len(preds_pars)"
   ]
  },
  {
   "cell_type": "markdown",
   "metadata": {},
   "source": [
    "#### Modeling with the Neural Net"
   ]
  },
  {
   "cell_type": "code",
   "execution_count": 37,
   "metadata": {},
   "outputs": [
    {
     "name": "stderr",
     "output_type": "stream",
     "text": [
      "Using TensorFlow backend.\n"
     ]
    }
   ],
   "source": [
    "from keras.models import Sequential\n",
    "from keras.layers import Dense\n",
    "from keras.wrappers.scikit_learn import KerasRegressor\n",
    "from keras import optimizers"
   ]
  },
  {
   "cell_type": "markdown",
   "metadata": {},
   "source": [
    "**Lasso RFE Selected Features Model**"
   ]
  },
  {
   "cell_type": "code",
   "execution_count": 38,
   "metadata": {},
   "outputs": [],
   "source": [
    "def BaseModel():\n",
    "    #creating the keras model\n",
    "    #Fully Connected Model\n",
    "    model = Sequential()\n",
    "    model.add(Dense(20, input_dim = 20, kernel_initializer = \"normal\", activation = \"relu\"))\n",
    "    model.add(Dense(12, activation = \"relu\"))\n",
    "    model.add(Dense(8, activation = \"relu\"))\n",
    "    model.add(Dense(1, activation = \"linear\"))\n",
    "    model.compile(loss = \"mean_squared_error\", optimizer = \"adam\", metrics = [\"mse\"])\n",
    "    return(model)\n",
    "\n",
    "estimator = KerasRegressor(build_fn=BaseModel, epochs = 100, batch_size = 30, verbose = 0)"
   ]
  },
  {
   "cell_type": "code",
   "execution_count": 39,
   "metadata": {},
   "outputs": [
    {
     "data": {
      "text/plain": [
       "0.19947860585061397"
      ]
     },
     "execution_count": 39,
     "metadata": {},
     "output_type": "execute_result"
    }
   ],
   "source": [
    "#Scoring for the more parsimonius training feature set\n",
    "score = rand_shuf_cv(estimator, 5, train_rob_scal[x_labels[:20]])\n",
    "score.mean()"
   ]
  },
  {
   "cell_type": "markdown",
   "metadata": {},
   "source": [
    "**Parsimonius Predictors Model**"
   ]
  },
  {
   "cell_type": "code",
   "execution_count": 40,
   "metadata": {},
   "outputs": [],
   "source": [
    "def BaseModel():\n",
    "    #creating the keras model\n",
    "    #Fully Connected Model\n",
    "    model = Sequential()\n",
    "    model.add(Dense(17, input_dim = 17, kernel_initializer = \"normal\", activation = \"relu\"))\n",
    "    model.add(Dense(12, activation = \"relu\"))\n",
    "    model.add(Dense(8, activation = \"relu\"))\n",
    "    model.add(Dense(1, activation = \"linear\"))\n",
    "    model.compile(loss = \"mean_squared_error\", optimizer = \"adam\", metrics = [\"mse\"])\n",
    "    return(model)\n",
    "\n",
    "estimator = KerasRegressor(build_fn=BaseModel, epochs = 100, batch_size = 40, verbose = 0)"
   ]
  },
  {
   "cell_type": "code",
   "execution_count": 41,
   "metadata": {},
   "outputs": [
    {
     "data": {
      "text/plain": [
       "0.1534756952065291"
      ]
     },
     "execution_count": 41,
     "metadata": {},
     "output_type": "execute_result"
    }
   ],
   "source": [
    "#Scoring for the more parsimonius training feature set\n",
    "score = rand_shuf_cv(estimator, 5, train_rob_scal[preds_pars])\n",
    "score.mean()"
   ]
  },
  {
   "cell_type": "code",
   "execution_count": null,
   "metadata": {},
   "outputs": [],
   "source": [
    "#tuneing the parsimonius model\n",
    "#tuneing epochs and batch size\n",
    "param_grid = [{\n",
    "    \"epochs\" : [90, 100, 110],\n",
    "    \"batch_size\" : [30, 35, 40]\n",
    "}]\n",
    "\n",
    "#Preforming GridSearch\n",
    "clf = GridSearchCV(estimator, param_grid = param_grid, \n",
    "                   cv = 5, scoring = \"neg_mean_squared_error\")\n",
    "clf.fit(train_rob_scal[preds_pars], y_train)\n",
    "clf.best_params_"
   ]
  },
  {
   "cell_type": "code",
   "execution_count": null,
   "metadata": {},
   "outputs": [],
   "source": [
    "#Tuneing Optimizer\n",
    "param_grid = [{\n",
    "    \"optimizer\" : [\"Nadam\", \"RMSprop\", \"SGD\", \"Adamax\", \"Adam\", \"Adagrad\"]\n",
    "}]\n",
    "\n",
    "def BaseModel(optimizer = \"adam\"):\n",
    "    #creating the keras model\n",
    "    #Fully Connected Model\n",
    "    model = Sequential()\n",
    "    model.add(Dense(17, input_dim = 17, kernel_initializer = \"normal\", activation = \"relu\"))\n",
    "    model.add(Dense(12, activation = \"relu\"))\n",
    "    model.add(Dense(8, activation = \"relu\"))\n",
    "    model.add(Dense(1, activation = \"linear\"))\n",
    "    model.compile(loss = \"mean_squared_error\", optimizer = optimizer, metrics = [\"mse\"])\n",
    "    return(model)\n",
    "\n",
    "estimator = KerasRegressor(build_fn=BaseModel, epochs = 100, batch_size = 35, verbose = 0)\n",
    "\n",
    "#Preforming GridSearch\n",
    "clf = GridSearchCV(estimator, param_grid = param_grid, \n",
    "                   cv = 5, scoring = \"neg_mean_squared_error\")\n",
    "clf.fit(train_rob_scal[preds_pars], y_train)\n",
    "clf.best_params_"
   ]
  },
  {
   "cell_type": "code",
   "execution_count": null,
   "metadata": {},
   "outputs": [],
   "source": [
    "def BaseModel():\n",
    "    #creating the keras model\n",
    "    #Fully Connected Model\n",
    "    model = Sequential()\n",
    "    model.add(Dense(17, input_dim = 17, kernel_initializer = \"normal\", activation = \"relu\"))\n",
    "    model.add(Dense(12, activation = \"relu\"))\n",
    "    model.add(Dense(8, activation = \"relu\"))\n",
    "    model.add(Dense(1, activation = \"linear\"))\n",
    "    model.compile(loss = \"mean_squared_error\", optimizer=optimizers.Adam(learning_rate = 0.005, amsgrad = True), metrics = [\"mse\"])\n",
    "    return(model)\n",
    "\n",
    "estimator = KerasRegressor(build_fn=BaseModel, epochs = 100, batch_size = 35, verbose = 0)\n",
    "\n",
    "#Scoring for the more parsimonius training feature set\n",
    "score = rand_shuf_cv(estimator, 5, train_rob_scal[preds_pars])\n",
    "score.mean()"
   ]
  },
  {
   "cell_type": "code",
   "execution_count": null,
   "metadata": {},
   "outputs": [],
   "source": [
    "#tuneing learning rate and momentum\n",
    "param_grid = [{\n",
    "    \"learn_rate\" : [0.001, 0.01, 0.1, 0.2, 0.3]\n",
    "}]\n",
    "\n",
    "#New Neural Net with updated Parameters\n",
    "def BaseModel(learn_rate = 0.01):\n",
    "    #creating the keras model\n",
    "    #Fully Connected Model\n",
    "    model = Sequential()\n",
    "    model.add(Dense(17, input_dim = 17, kernel_initializer = \"normal\", activation = \"relu\"))\n",
    "    model.add(Dense(12, activation = \"relu\"))\n",
    "    model.add(Dense(8, activation = \"relu\"))\n",
    "    model.add(Dense(1, activation = \"linear\"))\n",
    "    model.compile(loss = \"mean_squared_error\", optimizer=optimizers.Adam(learning_rate = learn_rate), metrics = [\"mse\"])\n",
    "    return(model)\n",
    "\n",
    "estimator = KerasRegressor(build_fn=BaseModel, epochs = 100, batch_size = 35, verbose = 0)\n",
    "\n",
    "#Preforming GridSearch\n",
    "clf = GridSearchCV(estimator, param_grid = param_grid, \n",
    "                   cv = 5, scoring = \"neg_mean_squared_error\")\n",
    "clf.fit(train_rob_scal[preds_pars], y_train)\n",
    "clf.best_params_"
   ]
  },
  {
   "cell_type": "code",
   "execution_count": null,
   "metadata": {},
   "outputs": [],
   "source": [
    "#Fine tuning epochs and batch size\n",
    "param_grid = [{\n",
    "    \"epochs\" : [],\n",
    "    \"batch_size\" : []\n",
    "}]\n",
    "\n",
    "#Preforming GridSearch\n",
    "clf = GridSearchCV(estimator, param_grid = param_grid, \n",
    "                   cv = 5, scoring = \"neg_mean_squared_error\")\n",
    "clf.fit(train_rob_scal[preds_pars], y_train)\n",
    "clf.best_params_"
   ]
  },
  {
   "cell_type": "code",
   "execution_count": null,
   "metadata": {},
   "outputs": [],
   "source": [
    "def BaseModel(learn_rate = 0.01):\n",
    "    #creating the keras model\n",
    "    #Fully Connected Model\n",
    "    model = Sequential()\n",
    "    model.add(Dense(17, input_dim = 17, kernel_initializer = \"normal\", activation = \"relu\"))\n",
    "    model.add(Dense(12, activation = \"relu\"))\n",
    "    model.add(Dense(8, activation = \"relu\"))\n",
    "    model.add(Dense(1, activation = \"linear\"))\n",
    "    model.compile(loss = \"mean_squared_error\", optimizer=optimizers.Adam(learning_rate = 0.01), metrics = [\"mse\"])\n",
    "    return(model)\n",
    "\n",
    "estimator = KerasRegressor(build_fn=BaseModel, epochs = 100, batch_size = 35, verbose = 0)"
   ]
  },
  {
   "cell_type": "code",
   "execution_count": null,
   "metadata": {},
   "outputs": [],
   "source": [
    "#scoring using full train feature set\n",
    "score = rand_shuf_cv(estimator, 5, train_rob_scal[preds_pars])\n",
    "score.mean()"
   ]
  }
 ],
 "metadata": {
  "kernelspec": {
   "display_name": "Python 3",
   "language": "python",
   "name": "python3"
  },
  "language_info": {
   "codemirror_mode": {
    "name": "ipython",
    "version": 3
   },
   "file_extension": ".py",
   "mimetype": "text/x-python",
   "name": "python",
   "nbconvert_exporter": "python",
   "pygments_lexer": "ipython3",
   "version": "3.7.4"
  }
 },
 "nbformat": 4,
 "nbformat_minor": 2
}
